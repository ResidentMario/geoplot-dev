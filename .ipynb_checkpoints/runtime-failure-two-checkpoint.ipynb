{
 "cells": [
  {
   "cell_type": "code",
   "execution_count": 1,
   "metadata": {
    "collapsed": false,
    "deletable": true,
    "editable": true
   },
   "outputs": [],
   "source": [
    "import os\n",
    "\n",
    "if not os.path.isfile(\"../geoplot/data/nyc_census_tracts/census_tracts_2010.geojson\"):\n",
    "    import requests\n",
    "    with open(\"../geoplot/data/nyc_census_tracts/nyc_census_tracts_2010.geojson\", \"w\") as f:\n",
    "        f.write(requests.get(\"https://raw.githubusercontent.com/dwillis/nyc-maps/master/census_tracts_2010.geojson\").text)"
   ]
  },
  {
   "cell_type": "code",
   "execution_count": 7,
   "metadata": {
    "collapsed": true
   },
   "outputs": [],
   "source": [
    "census_tracts = gpd.read_file(\"../geoplot/data/nyc_census_tracts/census_tracts_2010.geojson\", driver='GeoJSON')"
   ]
  },
  {
   "cell_type": "code",
   "execution_count": 12,
   "metadata": {
    "collapsed": true
   },
   "outputs": [],
   "source": [
    "%matplotlib inline"
   ]
  },
  {
   "cell_type": "code",
   "execution_count": 13,
   "metadata": {
    "collapsed": false,
    "deletable": true,
    "editable": true,
    "scrolled": true
   },
   "outputs": [
    {
     "data": {
      "text/plain": [
       "<cartopy.mpl.geoaxes.GeoAxesSubplot at 0x128192e80>"
      ]
     },
     "execution_count": 13,
     "metadata": {},
     "output_type": "execute_result"
    },
    {
     "data": {
      "image/png": "[encoded data removed]",
      "text/plain": [
       "<matplotlib.figure.Figure at 0x128192588>"
      ]
     },
     "metadata": {},
     "output_type": "display_data"
    }
   ],
   "source": [
    "import geoplot as gplt\n",
    "import geoplot.crs as gcrs\n",
    "gplt.polyplot(census_tracts.sample(1), projection=gcrs.PlateCarree())"
   ]
  },
  {
   "cell_type": "code",
   "execution_count": 18,
   "metadata": {
    "collapsed": true
   },
   "outputs": [],
   "source": [
    "import pandas as pd"
   ]
  },
  {
   "cell_type": "code",
   "execution_count": 19,
   "metadata": {
    "collapsed": false
   },
   "outputs": [],
   "source": [
    "collisions = pd.read_csv(\"../geoplot/data/nyc_collisions/NYPD_Motor_Vehicle_Collisions_2016.csv\", index_col=0)"
   ]
  },
  {
   "cell_type": "code",
   "execution_count": 21,
   "metadata": {
    "collapsed": true
   },
   "outputs": [],
   "source": [
    "import shapely"
   ]
  },
  {
   "cell_type": "code",
   "execution_count": 22,
   "metadata": {
    "collapsed": false
   },
   "outputs": [],
   "source": [
    "def pointify(srs):\n",
    "    lat, long = srs['LATITUDE'], srs['LONGITUDE']\n",
    "    if pd.isnull(lat) or pd.isnull(long):\n",
    "        return shapely.geometry.Point(0, 0)\n",
    "    else:\n",
    "        return shapely.geometry.Point(long, lat)\n",
    "\n",
    "collisions = gpd.GeoDataFrame(collisions.head(100000), geometry=collisions.head(100000).apply(pointify, axis='columns'))\n",
    "collisions = collisions[collisions.geometry.map(lambda srs: not (srs.x == 0))]"
   ]
  },
  {
   "cell_type": "code",
   "execution_count": null,
   "metadata": {
    "collapsed": true
   },
   "outputs": [],
   "source": [
    "fig = plt.figure(figsize=(10,5))\n",
    "\n",
    "ax1 = plt.subplot(121, projection=gcrs.AlbersEqualArea(central_latitude=40.7128, central_longitude=-74.0059))\n",
    "\n",
    "gplt.kdeplot(collisions[collisions[\"CONTRIBUTING FACTOR VEHICLE 1\"] == 'Failure to Yield Right-of-Way'],\n",
    "             projection=gcrs.AlbersEqualArea(), shade=True, clip=boroughs.geometry, shade_lowest=False, ax=ax1)\n",
    "gplt.polyplot(boroughs, projection=gcrs.AlbersEqualArea(), ax=ax1)\n",
    "plt.title(\"Failure to Yield Right-of-Way Crashes, 2016\")\n",
    "\n",
    "ax2 = plt.subplot(122, projection=gcrs.AlbersEqualArea(central_latitude=40.7128, central_longitude=-74.0059))\n",
    "\n",
    "gplt.kdeplot(collisions[collisions[\"CONTRIBUTING FACTOR VEHICLE 1\"] == 'Lost Consciousness'],\n",
    "             projection=gcrs.AlbersEqualArea(), shade=True, clip=boroughs.geometry, shade_lowest=False, ax=ax2)\n",
    "gplt.polyplot(boroughs, projection=gcrs.AlbersEqualArea(), ax=ax2)\n",
    "plt.title(\"Loss of Consciousness Crashes, 2016\")"
   ]
  }
 ],
 "metadata": {
  "anaconda-cloud": {},
  "kernelspec": {
   "display_name": "Python 3",
   "language": "python",
   "name": "python3"
  },
  "language_info": {
   "codemirror_mode": {
    "name": "ipython",
    "version": 3
   },
   "file_extension": ".py",
   "mimetype": "text/x-python",
   "name": "python",
   "nbconvert_exporter": "python",
   "pygments_lexer": "ipython3",
   "version": "3.5.3"
  }
 },
 "nbformat": 4,
 "nbformat_minor": 0
}
